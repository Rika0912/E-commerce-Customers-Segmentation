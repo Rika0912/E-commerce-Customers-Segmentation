{
 "cells": [
  {
   "cell_type": "markdown",
   "id": "45db1b60",
   "metadata": {},
   "source": [
    "# Import necessary libraries"
   ]
  },
  {
   "cell_type": "code",
   "execution_count": 1,
   "id": "9d5cf937",
   "metadata": {},
   "outputs": [],
   "source": [
    "# Import necessary libraries\n",
    "import pandas as pd\n",
    "import numpy as np\n",
    "from sklearn.preprocessing import StandardScaler\n",
    "from sklearn.cluster import KMeans\n",
    "from sklearn.metrics import silhouette_score\n",
    "import matplotlib.pyplot as plt\n",
    "import seaborn as sns"
   ]
  },
  {
   "cell_type": "markdown",
   "id": "31e888a3",
   "metadata": {},
   "source": [
    "# Load dataset "
   ]
  },
  {
   "cell_type": "code",
   "execution_count": 5,
   "id": "70f2fcf5",
   "metadata": {},
   "outputs": [],
   "source": [
    "# Load the Excel file containing the 6 tables\n",
    "file_path = \"C:/Users/Blu-Ray/Downloads/E-commerce_data.xlsx\"\n",
    "\n",
    "# Load each table from the Excel file\n",
    "customers = pd.read_excel(file_path, sheet_name='customers')\n",
    "genders = pd.read_excel(file_path, sheet_name='genders')\n",
    "cities = pd.read_excel(file_path, sheet_name='cities')\n",
    "transactions = pd.read_excel(file_path, sheet_name='transactions')\n",
    "branches = pd.read_excel(file_path, sheet_name='branches')\n",
    "merchants = pd.read_excel(file_path, sheet_name='merchants')"
   ]
  },
  {
   "cell_type": "markdown",
   "id": "b6e0120b",
   "metadata": {},
   "source": [
    "# Merge data to create a feature-rich dataframe"
   ]
  },
  {
   "cell_type": "code",
   "execution_count": 7,
   "id": "1d4977aa",
   "metadata": {},
   "outputs": [],
   "source": [
    "# Merging customers with transactions, genders, cities, and other relevant information\n",
    "data = pd.merge(customers, transactions, on='customer_id', how='left')\n",
    "data = pd.merge(data, genders, on='gender_id', how='left')\n",
    "data = pd.merge(data, cities, on='city_id', how='left')"
   ]
  },
  {
   "cell_type": "markdown",
   "id": "f20441a2",
   "metadata": {},
   "source": [
    "# 1) Feature engineering"
   ]
  },
  {
   "cell_type": "markdown",
   "id": "83c366d1",
   "metadata": {},
   "source": [
    "1. Transaction frequency per customer (How many transactions each customer has)"
   ]
  },
  {
   "cell_type": "code",
   "execution_count": 20,
   "id": "9d8775db",
   "metadata": {},
   "outputs": [
    {
     "data": {
      "text/html": [
       "<div>\n",
       "<style scoped>\n",
       "    .dataframe tbody tr th:only-of-type {\n",
       "        vertical-align: middle;\n",
       "    }\n",
       "\n",
       "    .dataframe tbody tr th {\n",
       "        vertical-align: top;\n",
       "    }\n",
       "\n",
       "    .dataframe thead th {\n",
       "        text-align: right;\n",
       "    }\n",
       "</style>\n",
       "<table border=\"1\" class=\"dataframe\">\n",
       "  <thead>\n",
       "    <tr style=\"text-align: right;\">\n",
       "      <th></th>\n",
       "      <th>customer_id</th>\n",
       "      <th>transaction_frequency</th>\n",
       "    </tr>\n",
       "  </thead>\n",
       "  <tbody>\n",
       "    <tr>\n",
       "      <th>0</th>\n",
       "      <td>1.0</td>\n",
       "      <td>7</td>\n",
       "    </tr>\n",
       "    <tr>\n",
       "      <th>1</th>\n",
       "      <td>2.0</td>\n",
       "      <td>3</td>\n",
       "    </tr>\n",
       "    <tr>\n",
       "      <th>2</th>\n",
       "      <td>3.0</td>\n",
       "      <td>5</td>\n",
       "    </tr>\n",
       "    <tr>\n",
       "      <th>3</th>\n",
       "      <td>4.0</td>\n",
       "      <td>1</td>\n",
       "    </tr>\n",
       "    <tr>\n",
       "      <th>4</th>\n",
       "      <td>5.0</td>\n",
       "      <td>4</td>\n",
       "    </tr>\n",
       "    <tr>\n",
       "      <th>...</th>\n",
       "      <td>...</td>\n",
       "      <td>...</td>\n",
       "    </tr>\n",
       "    <tr>\n",
       "      <th>995</th>\n",
       "      <td>996.0</td>\n",
       "      <td>3</td>\n",
       "    </tr>\n",
       "    <tr>\n",
       "      <th>996</th>\n",
       "      <td>997.0</td>\n",
       "      <td>3</td>\n",
       "    </tr>\n",
       "    <tr>\n",
       "      <th>997</th>\n",
       "      <td>998.0</td>\n",
       "      <td>4</td>\n",
       "    </tr>\n",
       "    <tr>\n",
       "      <th>998</th>\n",
       "      <td>999.0</td>\n",
       "      <td>4</td>\n",
       "    </tr>\n",
       "    <tr>\n",
       "      <th>999</th>\n",
       "      <td>1000.0</td>\n",
       "      <td>2</td>\n",
       "    </tr>\n",
       "  </tbody>\n",
       "</table>\n",
       "<p>1000 rows × 2 columns</p>\n",
       "</div>"
      ],
      "text/plain": [
       "     customer_id  transaction_frequency\n",
       "0            1.0                      7\n",
       "1            2.0                      3\n",
       "2            3.0                      5\n",
       "3            4.0                      1\n",
       "4            5.0                      4\n",
       "..           ...                    ...\n",
       "995        996.0                      3\n",
       "996        997.0                      3\n",
       "997        998.0                      4\n",
       "998        999.0                      4\n",
       "999       1000.0                      2\n",
       "\n",
       "[1000 rows x 2 columns]"
      ]
     },
     "execution_count": 20,
     "metadata": {},
     "output_type": "execute_result"
    }
   ],
   "source": [
    "transaction_frequency = data.groupby('customer_id')['transaction_id'].count().reset_index(name='transaction_frequency')\n",
    "transaction_frequency"
   ]
  },
  {
   "cell_type": "markdown",
   "id": "8c354d8f",
   "metadata": {},
   "source": [
    "2. Coupon burn rate per customer (Ratio of burnt to claimed coupons)"
   ]
  },
  {
   "cell_type": "code",
   "execution_count": 21,
   "id": "fcac1ec4",
   "metadata": {},
   "outputs": [
    {
     "data": {
      "text/html": [
       "<div>\n",
       "<style scoped>\n",
       "    .dataframe tbody tr th:only-of-type {\n",
       "        vertical-align: middle;\n",
       "    }\n",
       "\n",
       "    .dataframe tbody tr th {\n",
       "        vertical-align: top;\n",
       "    }\n",
       "\n",
       "    .dataframe thead th {\n",
       "        text-align: right;\n",
       "    }\n",
       "</style>\n",
       "<table border=\"1\" class=\"dataframe\">\n",
       "  <thead>\n",
       "    <tr style=\"text-align: right;\">\n",
       "      <th></th>\n",
       "      <th>customer_id</th>\n",
       "      <th>burn_rate</th>\n",
       "    </tr>\n",
       "  </thead>\n",
       "  <tbody>\n",
       "    <tr>\n",
       "      <th>0</th>\n",
       "      <td>1.0</td>\n",
       "      <td>0.0</td>\n",
       "    </tr>\n",
       "    <tr>\n",
       "      <th>1</th>\n",
       "      <td>2.0</td>\n",
       "      <td>0.0</td>\n",
       "    </tr>\n",
       "    <tr>\n",
       "      <th>2</th>\n",
       "      <td>3.0</td>\n",
       "      <td>0.0</td>\n",
       "    </tr>\n",
       "    <tr>\n",
       "      <th>3</th>\n",
       "      <td>4.0</td>\n",
       "      <td>0.0</td>\n",
       "    </tr>\n",
       "    <tr>\n",
       "      <th>4</th>\n",
       "      <td>5.0</td>\n",
       "      <td>0.0</td>\n",
       "    </tr>\n",
       "    <tr>\n",
       "      <th>...</th>\n",
       "      <td>...</td>\n",
       "      <td>...</td>\n",
       "    </tr>\n",
       "    <tr>\n",
       "      <th>995</th>\n",
       "      <td>996.0</td>\n",
       "      <td>0.0</td>\n",
       "    </tr>\n",
       "    <tr>\n",
       "      <th>996</th>\n",
       "      <td>997.0</td>\n",
       "      <td>0.0</td>\n",
       "    </tr>\n",
       "    <tr>\n",
       "      <th>997</th>\n",
       "      <td>998.0</td>\n",
       "      <td>0.0</td>\n",
       "    </tr>\n",
       "    <tr>\n",
       "      <th>998</th>\n",
       "      <td>999.0</td>\n",
       "      <td>0.0</td>\n",
       "    </tr>\n",
       "    <tr>\n",
       "      <th>999</th>\n",
       "      <td>1000.0</td>\n",
       "      <td>0.0</td>\n",
       "    </tr>\n",
       "  </tbody>\n",
       "</table>\n",
       "<p>1000 rows × 2 columns</p>\n",
       "</div>"
      ],
      "text/plain": [
       "     customer_id  burn_rate\n",
       "0            1.0        0.0\n",
       "1            2.0        0.0\n",
       "2            3.0        0.0\n",
       "3            4.0        0.0\n",
       "4            5.0        0.0\n",
       "..           ...        ...\n",
       "995        996.0        0.0\n",
       "996        997.0        0.0\n",
       "997        998.0        0.0\n",
       "998        999.0        0.0\n",
       "999       1000.0        0.0\n",
       "\n",
       "[1000 rows x 2 columns]"
      ]
     },
     "execution_count": 21,
     "metadata": {},
     "output_type": "execute_result"
    }
   ],
   "source": [
    "data['burned'] = data['transaction_status'].apply(lambda x: 1 if x == 'burnt' else 0)\n",
    "burn_rate = data.groupby('customer_id')['burned'].mean().reset_index(name='burn_rate')\n",
    "burn_rate"
   ]
  },
  {
   "cell_type": "markdown",
   "id": "ac46a313",
   "metadata": {},
   "source": [
    "3. Customer demographic features (gender and city)"
   ]
  },
  {
   "cell_type": "code",
   "execution_count": 22,
   "id": "5ba495c7",
   "metadata": {},
   "outputs": [
    {
     "data": {
      "text/html": [
       "<div>\n",
       "<style scoped>\n",
       "    .dataframe tbody tr th:only-of-type {\n",
       "        vertical-align: middle;\n",
       "    }\n",
       "\n",
       "    .dataframe tbody tr th {\n",
       "        vertical-align: top;\n",
       "    }\n",
       "\n",
       "    .dataframe thead th {\n",
       "        text-align: right;\n",
       "    }\n",
       "</style>\n",
       "<table border=\"1\" class=\"dataframe\">\n",
       "  <thead>\n",
       "    <tr style=\"text-align: right;\">\n",
       "      <th></th>\n",
       "      <th>customer_id</th>\n",
       "      <th>gender_id</th>\n",
       "      <th>city_id</th>\n",
       "    </tr>\n",
       "  </thead>\n",
       "  <tbody>\n",
       "    <tr>\n",
       "      <th>0</th>\n",
       "      <td>1.0</td>\n",
       "      <td>1.0</td>\n",
       "      <td>7.0</td>\n",
       "    </tr>\n",
       "    <tr>\n",
       "      <th>1</th>\n",
       "      <td>2.0</td>\n",
       "      <td>2.0</td>\n",
       "      <td>20.0</td>\n",
       "    </tr>\n",
       "    <tr>\n",
       "      <th>2</th>\n",
       "      <td>3.0</td>\n",
       "      <td>1.0</td>\n",
       "      <td>15.0</td>\n",
       "    </tr>\n",
       "    <tr>\n",
       "      <th>3</th>\n",
       "      <td>4.0</td>\n",
       "      <td>2.0</td>\n",
       "      <td>11.0</td>\n",
       "    </tr>\n",
       "    <tr>\n",
       "      <th>4</th>\n",
       "      <td>5.0</td>\n",
       "      <td>1.0</td>\n",
       "      <td>8.0</td>\n",
       "    </tr>\n",
       "    <tr>\n",
       "      <th>...</th>\n",
       "      <td>...</td>\n",
       "      <td>...</td>\n",
       "      <td>...</td>\n",
       "    </tr>\n",
       "    <tr>\n",
       "      <th>995</th>\n",
       "      <td>996.0</td>\n",
       "      <td>1.0</td>\n",
       "      <td>3.0</td>\n",
       "    </tr>\n",
       "    <tr>\n",
       "      <th>996</th>\n",
       "      <td>997.0</td>\n",
       "      <td>2.0</td>\n",
       "      <td>20.0</td>\n",
       "    </tr>\n",
       "    <tr>\n",
       "      <th>997</th>\n",
       "      <td>998.0</td>\n",
       "      <td>2.0</td>\n",
       "      <td>11.0</td>\n",
       "    </tr>\n",
       "    <tr>\n",
       "      <th>998</th>\n",
       "      <td>999.0</td>\n",
       "      <td>1.0</td>\n",
       "      <td>6.0</td>\n",
       "    </tr>\n",
       "    <tr>\n",
       "      <th>999</th>\n",
       "      <td>1000.0</td>\n",
       "      <td>2.0</td>\n",
       "      <td>2.0</td>\n",
       "    </tr>\n",
       "  </tbody>\n",
       "</table>\n",
       "<p>1000 rows × 3 columns</p>\n",
       "</div>"
      ],
      "text/plain": [
       "     customer_id  gender_id  city_id\n",
       "0            1.0        1.0      7.0\n",
       "1            2.0        2.0     20.0\n",
       "2            3.0        1.0     15.0\n",
       "3            4.0        2.0     11.0\n",
       "4            5.0        1.0      8.0\n",
       "..           ...        ...      ...\n",
       "995        996.0        1.0      3.0\n",
       "996        997.0        2.0     20.0\n",
       "997        998.0        2.0     11.0\n",
       "998        999.0        1.0      6.0\n",
       "999       1000.0        2.0      2.0\n",
       "\n",
       "[1000 rows x 3 columns]"
      ]
     },
     "execution_count": 22,
     "metadata": {},
     "output_type": "execute_result"
    }
   ],
   "source": [
    "customer_features = customers[['customer_id', 'gender_id', 'city_id']]\n",
    "customer_features"
   ]
  },
  {
   "cell_type": "code",
   "execution_count": 24,
   "id": "467e78b5",
   "metadata": {},
   "outputs": [],
   "source": [
    "# Merge all features into a final dataset for clustering\n",
    "features = pd.merge(customer_features, transaction_frequency, on='customer_id')\n",
    "features = pd.merge(features, burn_rate, on='customer_id')\n",
    "\n",
    "# Standardize the features for clustering\n",
    "scaler = StandardScaler()\n",
    "X = scaler.fit_transform(features[['gender_id', 'city_id', 'transaction_frequency', 'burn_rate']])"
   ]
  },
  {
   "cell_type": "markdown",
   "id": "78cc8064",
   "metadata": {},
   "source": [
    "# 2) Model Development: K-Means Clustering"
   ]
  },
  {
   "cell_type": "code",
   "execution_count": 13,
   "id": "1bded316",
   "metadata": {},
   "outputs": [],
   "source": [
    "# Explore different numbers of clusters and calculate silhouette scores\n",
    "silhouette_scores = []\n",
    "inertia_scores = []\n",
    "k_values = range(2, 11)  # Try 2 to 10 clusters\n",
    "\n",
    "for k in k_values:\n",
    "    kmeans = KMeans(n_clusters=k, random_state=42)\n",
    "    kmeans.fit(X)\n",
    "    \n",
    "# Evaluation metrics\n",
    "    silhouette_scores.append(silhouette_score(X, kmeans.labels_))\n",
    "    inertia_scores.append(kmeans.inertia_)    "
   ]
  },
  {
   "cell_type": "markdown",
   "id": "f6ce3446",
   "metadata": {},
   "source": [
    "# 3) Model Evaluation:Silhouette score and Inertia (for K-Means)."
   ]
  },
  {
   "cell_type": "code",
   "execution_count": 14,
   "id": "803b4bb8",
   "metadata": {},
   "outputs": [
    {
     "data": {
      "image/png": "[encoded data removed]",
      "text/plain": [
       "<Figure size 720x432 with 1 Axes>"
      ]
     },
     "metadata": {
      "needs_background": "light"
     },
     "output_type": "display_data"
    }
   ],
   "source": [
    "# Plot silhouette scores to find the optimal number of clusters\n",
    "plt.figure(figsize=(10, 6))\n",
    "plt.plot(k_values, silhouette_scores, marker='o')\n",
    "plt.title('Silhouette Scores for Different K Values')\n",
    "plt.xlabel('Number of Clusters (K)')\n",
    "plt.ylabel('Silhouette Score')\n",
    "plt.show()"
   ]
  },
  {
   "cell_type": "code",
   "execution_count": 15,
   "id": "87d59b21",
   "metadata": {},
   "outputs": [
    {
     "data": {
      "image/png": "[encoded data removed]",
      "text/plain": [
       "<Figure size 720x432 with 1 Axes>"
      ]
     },
     "metadata": {
      "needs_background": "light"
     },
     "output_type": "display_data"
    }
   ],
   "source": [
    "# Plot inertia to see the \"elbow\" for K-means clustering\n",
    "plt.figure(figsize=(10, 6))\n",
    "plt.plot(k_values, inertia_scores, marker='o')\n",
    "plt.title('Inertia (Sum of Squared Distances) for Different K Values')\n",
    "plt.xlabel('Number of Clusters (K)')\n",
    "plt.ylabel('Inertia')\n",
    "plt.show()"
   ]
  },
  {
   "cell_type": "code",
   "execution_count": 16,
   "id": "424543c5",
   "metadata": {},
   "outputs": [],
   "source": [
    "# Choose the best K based on the silhouette score and elbow method (let's assume K=4)\n",
    "optimal_k = 4\n",
    "kmeans = KMeans(n_clusters=optimal_k, random_state=42)\n",
    "clusters = kmeans.fit_predict(X)\n",
    "\n",
    "# Add the cluster labels to the original data\n",
    "features['cluster'] = clusters"
   ]
  },
  {
   "cell_type": "markdown",
   "id": "43c553af",
   "metadata": {},
   "source": [
    "# 4)Segment Analysis"
   ]
  },
  {
   "cell_type": "code",
   "execution_count": 17,
   "id": "a6881d00",
   "metadata": {},
   "outputs": [
    {
     "name": "stdout",
     "output_type": "stream",
     "text": [
      "Segment Analysis:\n",
      "    cluster  gender_id    city_id  transaction_frequency  burn_rate\n",
      "0        0        1.0  15.561181               5.413502        0.0\n",
      "1        1        2.0   5.158730               5.317460        0.0\n",
      "2        2        1.0   5.349265               4.720588        0.0\n",
      "3        3        2.0  15.451883               4.573222        0.0\n"
     ]
    }
   ],
   "source": [
    "#Describe customer behavior for each segment\n",
    "segment_analysis = features.groupby('cluster').agg({\n",
    "    'gender_id': 'mean',\n",
    "    'city_id': 'mean',\n",
    "    'transaction_frequency': 'mean',\n",
    "    'burn_rate': 'mean'\n",
    "}).reset_index()\n",
    "\n",
    "print(\"Segment Analysis:\\n\", segment_analysis)"
   ]
  },
  {
   "cell_type": "code",
   "execution_count": 18,
   "id": "63891746",
   "metadata": {},
   "outputs": [
    {
     "name": "stdout",
     "output_type": "stream",
     "text": [
      "Cluster 0: Engage customers with personalized offers to increase activity.\n",
      "Cluster 1: Engage customers with personalized offers to increase activity.\n",
      "Cluster 2: Engage customers with personalized offers to increase activity.\n",
      "Cluster 3: Engage customers with personalized offers to increase activity.\n"
     ]
    }
   ],
   "source": [
    "# Recommendations for offering coupons:\n",
    "# Higher burn_rate and transaction_frequency indicate more loyal customers\n",
    "for i in range(optimal_k):\n",
    "    segment = segment_analysis[segment_analysis['cluster'] == i]\n",
    "    if segment['burn_rate'].values[0] > 0.7 and segment['transaction_frequency'].values[0] > 5:\n",
    "        print(f\"Cluster {i}: Consider offering high-value loyalty coupons.\")\n",
    "    elif segment['burn_rate'].values[0] > 0.5:\n",
    "        print(f\"Cluster {i}: Consider offering targeted discounts to boost loyalty.\")\n",
    "    else:\n",
    "        print(f\"Cluster {i}: Engage customers with personalized offers to increase activity.\")"
   ]
  },
  {
   "cell_type": "code",
   "execution_count": 19,
   "id": "0d53a57d",
   "metadata": {},
   "outputs": [
    {
     "data": {
      "image/png": "[encoded data removed]",
      "text/plain": [
       "<Figure size 720x432 with 1 Axes>"
      ]
     },
     "metadata": {
      "needs_background": "light"
     },
     "output_type": "display_data"
    }
   ],
   "source": [
    "# Visualization of clusters (optional, for 2D plot)\n",
    "plt.figure(figsize=(10, 6))\n",
    "sns.scatterplot(x=features['transaction_frequency'], y=features['burn_rate'], hue=features['cluster'], palette='viridis')\n",
    "plt.title('Customer Segments based on Transaction Frequency and Burn Rate')\n",
    "plt.xlabel('Transaction Frequency')\n",
    "plt.ylabel('Burn Rate')\n",
    "plt.show()"
   ]
  },
  {
   "cell_type": "code",
   "execution_count": null,
   "id": "07c62011",
   "metadata": {},
   "outputs": [],
   "source": []
  }
 ],
 "metadata": {
  "kernelspec": {
   "display_name": "Python 3 (ipykernel)",
   "language": "python",
   "name": "python3"
  },
  "language_info": {
   "codemirror_mode": {
    "name": "ipython",
    "version": 3
   },
   "file_extension": ".py",
   "mimetype": "text/x-python",
   "name": "python",
   "nbconvert_exporter": "python",
   "pygments_lexer": "ipython3",
   "version": "3.9.12"
  }
 },
 "nbformat": 4,
 "nbformat_minor": 5
}
